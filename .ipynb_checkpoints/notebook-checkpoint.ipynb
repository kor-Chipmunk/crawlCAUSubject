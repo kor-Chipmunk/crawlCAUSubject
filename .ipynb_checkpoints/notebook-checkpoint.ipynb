{
 "cells": [
  {
   "cell_type": "code",
   "execution_count": null,
   "metadata": {},
   "outputs": [],
   "source": [
    "import requests, json\n",
    "from bs4 import BeautifulSoup\n",
    "\n",
    "from openpyxl import load_workbook\n",
    "from openpyxl import Workbook"
   ]
  },
  {
   "cell_type": "code",
   "execution_count": null,
   "metadata": {},
   "outputs": [],
   "source": [
    "URL = \"https://mportal.cau.ac.kr/std/usk/sUskSif001/selectParam.ajax\"\n",
    "\n",
    "campfg = \"1\"\n",
    "params = {'year': \"2019\", 'campfg': campfg, 'course': \"3\", 'gb': \"3\"}\n",
    "headers = {'Content-Type': 'application/json; charset=utf-8'}\n",
    "\n",
    "res = requests.post(URL, headers=headers, data=json.dumps(params))\n",
    "\n",
    "resToJson = res.json()"
   ]
  },
  {
   "cell_type": "code",
   "execution_count": null,
   "metadata": {},
   "outputs": [],
   "source": [
    "colgList = []\n",
    "\n",
    "for menu in resToJson['selectColg']:\n",
    "    if menu['deptcd'] == None:\n",
    "        continue\n",
    "    \n",
    "    insertDict = {'name': menu['deptkornm'], 'code': menu['deptcd'], 'campcode': menu['campfg']}\n",
    "    \n",
    "    colgList.append(insertDict)\n",
    "\n",
    "print (colgList)"
   ]
  },
  {
   "cell_type": "code",
   "execution_count": null,
   "metadata": {},
   "outputs": [],
   "source": [
    "colg = colgList[2]\n",
    "\n",
    "URL = \"https://mportal.cau.ac.kr/std/usk/sUskSif001/selectSust.ajax\"\n",
    "params = {'year': \"2019\", 'campfg': colg['campcode'], 'course': \"3\", 'gb': \"3\", 'colgcd': colg['code'], 'shtm': \"2\"}\n",
    "headers = {'Content-Type': 'application/json; charset=utf-8'}\n",
    "\n",
    "res = requests.post(URL, headers=headers, data=json.dumps(params))\n",
    "resToJson = res.json()"
   ]
  },
  {
   "cell_type": "code",
   "execution_count": null,
   "metadata": {},
   "outputs": [],
   "source": [
    "susts = []\n",
    "\n",
    "for detailSust in resToJson['selectSust']:\n",
    "    insertSust = {'campcode': detailSust['camp'], 'name': detailSust['nm'], 'code': detailSust['deptcd']}\n",
    "    \n",
    "    susts.append(insertSust)\n",
    "\n",
    "print(susts)"
   ]
  },
  {
   "cell_type": "code",
   "execution_count": null,
   "metadata": {},
   "outputs": [],
   "source": [
    "exportTable = []\n",
    "exportTable.append(['전공', '학년', '이수구분', '과목번호-분반', '과목명', '담당교수', '학점', '시간', '강의실/강의시간', '개설학과', '유의사항'])"
   ]
  },
  {
   "cell_type": "code",
   "execution_count": null,
   "metadata": {},
   "outputs": [],
   "source": [
    "URL = \"https://mportal.cau.ac.kr/std/usk/sUskSif001/selectSbjt.ajax\"\n",
    "params = {\"year\":\"2019\",\"campfg\":campfg,\"course\":\"3\",\"gb\":\"3\",\"colgcd\":colg['code'],\"shtm\":\"2\",\"sust\":susts[0]['code'],\"search_gb\":colg['code'],\"kornm\":\"\"}\n",
    "headers = {'Content-Type': 'application/json; charset=utf-8'}\n",
    "\n",
    "res = requests.post(URL, headers=headers, data=json.dumps(params))\n",
    "resToJson = res.json()\n",
    "\n",
    "print (resToJson)"
   ]
  },
  {
   "cell_type": "code",
   "execution_count": null,
   "metadata": {},
   "outputs": [],
   "source": [
    "for subject in resToJson['selectSust']:\n",
    "    exportTable.append([susts[0]['name']\n",
    "                        , subject['shyr'] \\\n",
    "                        , subject['pobtnm'] \\\n",
    "                        , subject['sbjtclss'] \\\n",
    "                        , subject['clssnm'] \\\n",
    "                        , subject['profnm'] \\\n",
    "                        , subject['pnt'].split('-')[0] \\\n",
    "                        , subject['pnt'].split('-')[1] \\\n",
    "                        , subject['ltbdrm'] \\\n",
    "                        , '' if subject['sustnm'] == None else subject['sustnm']\n",
    "                        , subject['remk']])"
   ]
  },
  {
   "cell_type": "code",
   "execution_count": null,
   "metadata": {},
   "outputs": [],
   "source": [
    "exportTable"
   ]
  },
  {
   "cell_type": "code",
   "execution_count": null,
   "metadata": {},
   "outputs": [],
   "source": [
    "susts"
   ]
  },
  {
   "cell_type": "markdown",
   "metadata": {},
   "source": [
    "## 엑셀로 저장"
   ]
  },
  {
   "cell_type": "code",
   "execution_count": null,
   "metadata": {},
   "outputs": [],
   "source": [
    "write_wb = Workbook()\n",
    "write_ws = write_wb.active\n",
    "\n",
    "for row in exportTable:\n",
    "    write_ws.append(row)\n",
    "\n",
    "write_wb.save('{}.csv'.format(colg['name']))"
   ]
  },
  {
   "cell_type": "markdown",
   "metadata": {},
   "source": [
    "## 전체 소스"
   ]
  },
  {
   "cell_type": "code",
   "execution_count": null,
   "metadata": {},
   "outputs": [],
   "source": [
    "import requests, json\n",
    "from bs4 import BeautifulSoup\n",
    "\n",
    "from openpyxl import load_workbook\n",
    "from openpyxl import Workbook\n",
    "\n",
    "campfgs = [\"1\", \"2\"]\n",
    "\n",
    "for campfg in campfgs:\n",
    "    URL = \"https://mportal.cau.ac.kr/std/usk/sUskSif001/selectParam.ajax\"\n",
    "    params = {'year': \"2019\", 'campfg': campfg, 'course': \"3\", 'gb': \"3\"}\n",
    "    headers = {'Content-Type': 'application/json; charset=utf-8'}\n",
    "\n",
    "    res = requests.post(URL, headers=headers, data=json.dumps(params))\n",
    "\n",
    "    resToJson = res.json()\n",
    "    \n",
    "    # 교양 / 융합전공 / 연계전공 / --- / 대학들...\n",
    "    colgList = []\n",
    "    \n",
    "    for menu in resToJson['selectColg']:\n",
    "        if menu['deptcd'] == None:\n",
    "            continue\n",
    "\n",
    "        insertDict = {'name': menu['deptkornm'], 'code': menu['deptcd'], 'campcode': menu['campfg']}\n",
    "\n",
    "        colgList.append(insertDict)\n",
    "    \n",
    "    \n",
    "    # 대학들 마다 세부 전공 탐색\n",
    "    for idx, colg in enumerate(colgList):\n",
    "        URL = \"https://mportal.cau.ac.kr/std/usk/sUskSif001/selectSust.ajax\"\n",
    "        params = {'year': \"2019\", 'campfg': campfg, 'course': \"3\", 'gb': \"3\", 'colgcd': colg['code'], 'shtm': \"2\"}\n",
    "        headers = {'Content-Type': 'application/json; charset=utf-8'}\n",
    "\n",
    "        res = requests.post(URL, headers=headers, data=json.dumps(params))\n",
    "        resToJson = res.json()\n",
    "        \n",
    "        # 세부 전공들\n",
    "        susts = []\n",
    "        \n",
    "        exportTable = []\n",
    "        exportTable.append(['전공', '학년', '이수구분', '과목번호-분반', '과목명', '담당교수', '학점', '시간', '강의실/강의시간', '개설학과', '유의사항'])\n",
    "        \n",
    "        write_wb = Workbook()\n",
    "        write_ws = write_wb.active\n",
    "        \n",
    "        for detailSust in resToJson['selectSust']:\n",
    "            insertSust = {'campcode': detailSust['camp'], 'name': detailSust['nm'], 'code': detailSust['deptcd']}\n",
    "\n",
    "            susts.append(insertSust)\n",
    "        \n",
    "        if idx < 3:\n",
    "            search_gb = colg['code']\n",
    "        else:\n",
    "            search_gb = \"ELSE\"\n",
    "        \n",
    "        for sust in susts:\n",
    "            URL = \"https://mportal.cau.ac.kr/std/usk/sUskSif001/selectSbjt.ajax\"\n",
    "            params = {\"year\":\"2019\",\"campfg\":campfg,\"course\":\"3\",\"gb\":\"3\",\"colgcd\":colg['code'], \"shtm\":\"2\", \"sust\":sust['code'], \"search_gb\": search_gb, \"kornm\":\"\"}\n",
    "            headers = {'Content-Type': 'application/json; charset=utf-8'}\n",
    "\n",
    "            res = requests.post(URL, headers=headers, data=json.dumps(params))\n",
    "            resToJson = res.json()\n",
    "\n",
    "            for subject in resToJson['selectSust']:\n",
    "                exportTable.append([sust['name'] \\\n",
    "                                    , subject['shyr'] \\\n",
    "                                    , subject['pobtnm'] \\\n",
    "                                    , subject['sbjtclss'] \\\n",
    "                                    , subject['clssnm'] \\\n",
    "                                    , subject['profnm'] \\\n",
    "                                    , subject['pnt'].split('-')[0] \\\n",
    "                                    , subject['pnt'].split('-')[1] \\\n",
    "                                    , subject['ltbdrm'] \\\n",
    "                                    , '' if subject['sustnm'] == None else subject['sustnm'] \\\n",
    "                                    , subject['remk']])\n",
    "\n",
    "        for row in exportTable:\n",
    "            write_ws.append(row)\n",
    "\n",
    "        write_wb.save('{} - {}.csv'.format(\"서울캠퍼스\" if campfg == \"1\" else \"안성캠퍼스\",colg['name']))\n",
    "        \n",
    "        print('{} - {} 파일 완료'.format(\"서울캠퍼스\" if campfg == \"1\" else \"안성캠퍼스\",colg['name']))"
   ]
  }
 ],
 "metadata": {
  "kernelspec": {
   "display_name": "Python 3",
   "language": "python",
   "name": "python3"
  },
  "language_info": {
   "codemirror_mode": {
    "name": "ipython",
    "version": 3
   },
   "file_extension": ".py",
   "mimetype": "text/x-python",
   "name": "python",
   "nbconvert_exporter": "python",
   "pygments_lexer": "ipython3",
   "version": "3.7.3"
  }
 },
 "nbformat": 4,
 "nbformat_minor": 2
}
